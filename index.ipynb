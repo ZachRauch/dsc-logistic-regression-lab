{
 "cells": [
  {
   "cell_type": "markdown",
   "metadata": {},
   "source": [
    "# Logistic Regression - Cumulative Lab\n",
    "\n",
    "## Introduction\n",
    "\n",
    "In this cumulative lab, you will walk through a complete machine learning workflow with logistic regression, including data preparation, modeling (including hyperparameter tuning), and final model evaluation.\n",
    "\n",
    "## Objectives\n",
    "\n",
    "You will be able to:\n",
    "\n",
    "* Practice identifying and applying appropriate preprocessing steps\n",
    "* Perform an iterative modeling process, starting from a baseline model\n",
    "* Practice model validation\n",
    "* Practice choosing a final logistic regression model and evaluating its performance"
   ]
  },
  {
   "cell_type": "markdown",
   "metadata": {},
   "source": [
    "## Your Task: Complete an End-to-End ML Process with Logistic Regression on the Forest Cover Dataset\n",
    "\n",
    "![forest road](images/forest_road.jpg)\n",
    "\n",
    "<span>Photo by <a href=\"https://unsplash.com/@von_co?utm_source=unsplash&amp;utm_medium=referral&amp;utm_content=creditCopyText\">Ivana Cajina</a> on <a href=\"https://unsplash.com/s/photos/forest-satellite?utm_source=unsplash&amp;utm_medium=referral&amp;utm_content=creditCopyText\">Unsplash</a></span>"
   ]
  },
  {
   "cell_type": "markdown",
   "metadata": {},
   "source": [
    "### Business and Data Understanding\n",
    "\n",
    "Here we will be using an adapted version of the forest cover dataset from the [UCI Machine Learning Repository](https://archive.ics.uci.edu/ml/datasets/covertype). Each record represents a 30 x 30 meter cell of land within Roosevelt National Forest in northern Colorado, which has been labeled as `Cover_Type` 1 for \"Cottonwood/Willow\" and `Cover_Type` 0 for \"Ponderosa Pine\". (The original dataset contained 7 cover types but we have simplified it.)\n",
    "\n",
    "The task is to predict the `Cover_Type` based on the available cartographic variables:"
   ]
  },
  {
   "cell_type": "code",
   "execution_count": 1,
   "metadata": {
    "ExecuteTime": {
     "end_time": "2022-04-11T14:06:34.922664Z",
     "start_time": "2022-04-11T14:06:34.336764Z"
    }
   },
   "outputs": [
    {
     "data": {
      "text/html": [
       "<div>\n",
       "<style scoped>\n",
       "    .dataframe tbody tr th:only-of-type {\n",
       "        vertical-align: middle;\n",
       "    }\n",
       "\n",
       "    .dataframe tbody tr th {\n",
       "        vertical-align: top;\n",
       "    }\n",
       "\n",
       "    .dataframe thead th {\n",
       "        text-align: right;\n",
       "    }\n",
       "</style>\n",
       "<table border=\"1\" class=\"dataframe\">\n",
       "  <thead>\n",
       "    <tr style=\"text-align: right;\">\n",
       "      <th></th>\n",
       "      <th>Elevation</th>\n",
       "      <th>Aspect</th>\n",
       "      <th>Slope</th>\n",
       "      <th>Horizontal_Distance_To_Hydrology</th>\n",
       "      <th>Vertical_Distance_To_Hydrology</th>\n",
       "      <th>Horizontal_Distance_To_Roadways</th>\n",
       "      <th>Hillshade_9am</th>\n",
       "      <th>Hillshade_Noon</th>\n",
       "      <th>Hillshade_3pm</th>\n",
       "      <th>Horizontal_Distance_To_Fire_Points</th>\n",
       "      <th>...</th>\n",
       "      <th>Soil_Type_31</th>\n",
       "      <th>Soil_Type_32</th>\n",
       "      <th>Soil_Type_33</th>\n",
       "      <th>Soil_Type_34</th>\n",
       "      <th>Soil_Type_35</th>\n",
       "      <th>Soil_Type_36</th>\n",
       "      <th>Soil_Type_37</th>\n",
       "      <th>Soil_Type_38</th>\n",
       "      <th>Soil_Type_39</th>\n",
       "      <th>Cover_Type</th>\n",
       "    </tr>\n",
       "  </thead>\n",
       "  <tbody>\n",
       "    <tr>\n",
       "      <th>0</th>\n",
       "      <td>2553</td>\n",
       "      <td>235</td>\n",
       "      <td>17</td>\n",
       "      <td>351</td>\n",
       "      <td>95</td>\n",
       "      <td>780</td>\n",
       "      <td>188</td>\n",
       "      <td>253</td>\n",
       "      <td>199</td>\n",
       "      <td>1410</td>\n",
       "      <td>...</td>\n",
       "      <td>0</td>\n",
       "      <td>0</td>\n",
       "      <td>0</td>\n",
       "      <td>0</td>\n",
       "      <td>0</td>\n",
       "      <td>0</td>\n",
       "      <td>0</td>\n",
       "      <td>0</td>\n",
       "      <td>0</td>\n",
       "      <td>0</td>\n",
       "    </tr>\n",
       "    <tr>\n",
       "      <th>1</th>\n",
       "      <td>2011</td>\n",
       "      <td>344</td>\n",
       "      <td>17</td>\n",
       "      <td>313</td>\n",
       "      <td>29</td>\n",
       "      <td>404</td>\n",
       "      <td>183</td>\n",
       "      <td>211</td>\n",
       "      <td>164</td>\n",
       "      <td>300</td>\n",
       "      <td>...</td>\n",
       "      <td>0</td>\n",
       "      <td>0</td>\n",
       "      <td>0</td>\n",
       "      <td>0</td>\n",
       "      <td>0</td>\n",
       "      <td>0</td>\n",
       "      <td>0</td>\n",
       "      <td>0</td>\n",
       "      <td>0</td>\n",
       "      <td>0</td>\n",
       "    </tr>\n",
       "    <tr>\n",
       "      <th>2</th>\n",
       "      <td>2022</td>\n",
       "      <td>24</td>\n",
       "      <td>13</td>\n",
       "      <td>391</td>\n",
       "      <td>42</td>\n",
       "      <td>509</td>\n",
       "      <td>212</td>\n",
       "      <td>212</td>\n",
       "      <td>134</td>\n",
       "      <td>421</td>\n",
       "      <td>...</td>\n",
       "      <td>0</td>\n",
       "      <td>0</td>\n",
       "      <td>0</td>\n",
       "      <td>0</td>\n",
       "      <td>0</td>\n",
       "      <td>0</td>\n",
       "      <td>0</td>\n",
       "      <td>0</td>\n",
       "      <td>0</td>\n",
       "      <td>0</td>\n",
       "    </tr>\n",
       "    <tr>\n",
       "      <th>3</th>\n",
       "      <td>2038</td>\n",
       "      <td>50</td>\n",
       "      <td>17</td>\n",
       "      <td>408</td>\n",
       "      <td>71</td>\n",
       "      <td>474</td>\n",
       "      <td>226</td>\n",
       "      <td>200</td>\n",
       "      <td>102</td>\n",
       "      <td>283</td>\n",
       "      <td>...</td>\n",
       "      <td>0</td>\n",
       "      <td>0</td>\n",
       "      <td>0</td>\n",
       "      <td>0</td>\n",
       "      <td>0</td>\n",
       "      <td>0</td>\n",
       "      <td>0</td>\n",
       "      <td>0</td>\n",
       "      <td>0</td>\n",
       "      <td>0</td>\n",
       "    </tr>\n",
       "    <tr>\n",
       "      <th>4</th>\n",
       "      <td>2018</td>\n",
       "      <td>341</td>\n",
       "      <td>27</td>\n",
       "      <td>351</td>\n",
       "      <td>34</td>\n",
       "      <td>390</td>\n",
       "      <td>152</td>\n",
       "      <td>188</td>\n",
       "      <td>168</td>\n",
       "      <td>190</td>\n",
       "      <td>...</td>\n",
       "      <td>0</td>\n",
       "      <td>0</td>\n",
       "      <td>0</td>\n",
       "      <td>0</td>\n",
       "      <td>0</td>\n",
       "      <td>0</td>\n",
       "      <td>0</td>\n",
       "      <td>0</td>\n",
       "      <td>0</td>\n",
       "      <td>0</td>\n",
       "    </tr>\n",
       "    <tr>\n",
       "      <th>...</th>\n",
       "      <td>...</td>\n",
       "      <td>...</td>\n",
       "      <td>...</td>\n",
       "      <td>...</td>\n",
       "      <td>...</td>\n",
       "      <td>...</td>\n",
       "      <td>...</td>\n",
       "      <td>...</td>\n",
       "      <td>...</td>\n",
       "      <td>...</td>\n",
       "      <td>...</td>\n",
       "      <td>...</td>\n",
       "      <td>...</td>\n",
       "      <td>...</td>\n",
       "      <td>...</td>\n",
       "      <td>...</td>\n",
       "      <td>...</td>\n",
       "      <td>...</td>\n",
       "      <td>...</td>\n",
       "      <td>...</td>\n",
       "      <td>...</td>\n",
       "    </tr>\n",
       "    <tr>\n",
       "      <th>38496</th>\n",
       "      <td>2396</td>\n",
       "      <td>153</td>\n",
       "      <td>20</td>\n",
       "      <td>85</td>\n",
       "      <td>17</td>\n",
       "      <td>108</td>\n",
       "      <td>240</td>\n",
       "      <td>237</td>\n",
       "      <td>118</td>\n",
       "      <td>837</td>\n",
       "      <td>...</td>\n",
       "      <td>0</td>\n",
       "      <td>0</td>\n",
       "      <td>0</td>\n",
       "      <td>0</td>\n",
       "      <td>0</td>\n",
       "      <td>0</td>\n",
       "      <td>0</td>\n",
       "      <td>0</td>\n",
       "      <td>0</td>\n",
       "      <td>0</td>\n",
       "    </tr>\n",
       "    <tr>\n",
       "      <th>38497</th>\n",
       "      <td>2391</td>\n",
       "      <td>152</td>\n",
       "      <td>19</td>\n",
       "      <td>67</td>\n",
       "      <td>12</td>\n",
       "      <td>95</td>\n",
       "      <td>240</td>\n",
       "      <td>237</td>\n",
       "      <td>119</td>\n",
       "      <td>845</td>\n",
       "      <td>...</td>\n",
       "      <td>0</td>\n",
       "      <td>0</td>\n",
       "      <td>0</td>\n",
       "      <td>0</td>\n",
       "      <td>0</td>\n",
       "      <td>0</td>\n",
       "      <td>0</td>\n",
       "      <td>0</td>\n",
       "      <td>0</td>\n",
       "      <td>0</td>\n",
       "    </tr>\n",
       "    <tr>\n",
       "      <th>38498</th>\n",
       "      <td>2386</td>\n",
       "      <td>159</td>\n",
       "      <td>17</td>\n",
       "      <td>60</td>\n",
       "      <td>7</td>\n",
       "      <td>90</td>\n",
       "      <td>236</td>\n",
       "      <td>241</td>\n",
       "      <td>130</td>\n",
       "      <td>854</td>\n",
       "      <td>...</td>\n",
       "      <td>0</td>\n",
       "      <td>0</td>\n",
       "      <td>0</td>\n",
       "      <td>0</td>\n",
       "      <td>0</td>\n",
       "      <td>0</td>\n",
       "      <td>0</td>\n",
       "      <td>0</td>\n",
       "      <td>0</td>\n",
       "      <td>0</td>\n",
       "    </tr>\n",
       "    <tr>\n",
       "      <th>38499</th>\n",
       "      <td>2384</td>\n",
       "      <td>170</td>\n",
       "      <td>15</td>\n",
       "      <td>60</td>\n",
       "      <td>5</td>\n",
       "      <td>90</td>\n",
       "      <td>230</td>\n",
       "      <td>245</td>\n",
       "      <td>143</td>\n",
       "      <td>864</td>\n",
       "      <td>...</td>\n",
       "      <td>0</td>\n",
       "      <td>0</td>\n",
       "      <td>0</td>\n",
       "      <td>0</td>\n",
       "      <td>0</td>\n",
       "      <td>0</td>\n",
       "      <td>0</td>\n",
       "      <td>0</td>\n",
       "      <td>0</td>\n",
       "      <td>0</td>\n",
       "    </tr>\n",
       "    <tr>\n",
       "      <th>38500</th>\n",
       "      <td>2383</td>\n",
       "      <td>165</td>\n",
       "      <td>13</td>\n",
       "      <td>60</td>\n",
       "      <td>4</td>\n",
       "      <td>67</td>\n",
       "      <td>231</td>\n",
       "      <td>244</td>\n",
       "      <td>141</td>\n",
       "      <td>875</td>\n",
       "      <td>...</td>\n",
       "      <td>0</td>\n",
       "      <td>0</td>\n",
       "      <td>0</td>\n",
       "      <td>0</td>\n",
       "      <td>0</td>\n",
       "      <td>0</td>\n",
       "      <td>0</td>\n",
       "      <td>0</td>\n",
       "      <td>0</td>\n",
       "      <td>0</td>\n",
       "    </tr>\n",
       "  </tbody>\n",
       "</table>\n",
       "<p>38501 rows × 53 columns</p>\n",
       "</div>"
      ],
      "text/plain": [
       "       Elevation  Aspect  Slope  Horizontal_Distance_To_Hydrology  \\\n",
       "0           2553     235     17                               351   \n",
       "1           2011     344     17                               313   \n",
       "2           2022      24     13                               391   \n",
       "3           2038      50     17                               408   \n",
       "4           2018     341     27                               351   \n",
       "...          ...     ...    ...                               ...   \n",
       "38496       2396     153     20                                85   \n",
       "38497       2391     152     19                                67   \n",
       "38498       2386     159     17                                60   \n",
       "38499       2384     170     15                                60   \n",
       "38500       2383     165     13                                60   \n",
       "\n",
       "       Vertical_Distance_To_Hydrology  Horizontal_Distance_To_Roadways  \\\n",
       "0                                  95                              780   \n",
       "1                                  29                              404   \n",
       "2                                  42                              509   \n",
       "3                                  71                              474   \n",
       "4                                  34                              390   \n",
       "...                               ...                              ...   \n",
       "38496                              17                              108   \n",
       "38497                              12                               95   \n",
       "38498                               7                               90   \n",
       "38499                               5                               90   \n",
       "38500                               4                               67   \n",
       "\n",
       "       Hillshade_9am  Hillshade_Noon  Hillshade_3pm  \\\n",
       "0                188             253            199   \n",
       "1                183             211            164   \n",
       "2                212             212            134   \n",
       "3                226             200            102   \n",
       "4                152             188            168   \n",
       "...              ...             ...            ...   \n",
       "38496            240             237            118   \n",
       "38497            240             237            119   \n",
       "38498            236             241            130   \n",
       "38499            230             245            143   \n",
       "38500            231             244            141   \n",
       "\n",
       "       Horizontal_Distance_To_Fire_Points  ...  Soil_Type_31  Soil_Type_32  \\\n",
       "0                                    1410  ...             0             0   \n",
       "1                                     300  ...             0             0   \n",
       "2                                     421  ...             0             0   \n",
       "3                                     283  ...             0             0   \n",
       "4                                     190  ...             0             0   \n",
       "...                                   ...  ...           ...           ...   \n",
       "38496                                 837  ...             0             0   \n",
       "38497                                 845  ...             0             0   \n",
       "38498                                 854  ...             0             0   \n",
       "38499                                 864  ...             0             0   \n",
       "38500                                 875  ...             0             0   \n",
       "\n",
       "       Soil_Type_33  Soil_Type_34  Soil_Type_35  Soil_Type_36  Soil_Type_37  \\\n",
       "0                 0             0             0             0             0   \n",
       "1                 0             0             0             0             0   \n",
       "2                 0             0             0             0             0   \n",
       "3                 0             0             0             0             0   \n",
       "4                 0             0             0             0             0   \n",
       "...             ...           ...           ...           ...           ...   \n",
       "38496             0             0             0             0             0   \n",
       "38497             0             0             0             0             0   \n",
       "38498             0             0             0             0             0   \n",
       "38499             0             0             0             0             0   \n",
       "38500             0             0             0             0             0   \n",
       "\n",
       "       Soil_Type_38  Soil_Type_39  Cover_Type  \n",
       "0                 0             0           0  \n",
       "1                 0             0           0  \n",
       "2                 0             0           0  \n",
       "3                 0             0           0  \n",
       "4                 0             0           0  \n",
       "...             ...           ...         ...  \n",
       "38496             0             0           0  \n",
       "38497             0             0           0  \n",
       "38498             0             0           0  \n",
       "38499             0             0           0  \n",
       "38500             0             0           0  \n",
       "\n",
       "[38501 rows x 53 columns]"
      ]
     },
     "execution_count": 1,
     "metadata": {},
     "output_type": "execute_result"
    }
   ],
   "source": [
    "# Run this cell without changes\n",
    "import pandas as pd\n",
    "\n",
    "df = pd.read_csv('data/forest_cover.csv')  \n",
    "df"
   ]
  },
  {
   "cell_type": "markdown",
   "metadata": {},
   "source": [
    "As you can see, we have over 38,000 rows, each with 52 feature columns and 1 target column:\n",
    "\n",
    "* `Elevation`: Elevation in meters\n",
    "* `Aspect`: Aspect in degrees azimuth\n",
    "* `Slope`: Slope in degrees\n",
    "* `Horizontal_Distance_To_Hydrology`: Horizontal dist to nearest surface water features in meters\n",
    "* `Vertical_Distance_To_Hydrology`: Vertical dist to nearest surface water features in meters\n",
    "* `Horizontal_Distance_To_Roadways`: Horizontal dist to nearest roadway in meters\n",
    "* `Hillshade_9am`: Hillshade index at 9am, summer solstice\n",
    "* `Hillshade_Noon`: Hillshade index at noon, summer solstice\n",
    "* `Hillshade_3pm`: Hillshade index at 3pm, summer solstice\n",
    "* `Horizontal_Distance_To_Fire_Points`: Horizontal dist to nearest wildfire ignition points, meters\n",
    "* `Wilderness_Area_x`: Wilderness area designation (3 columns)\n",
    "* `Soil_Type_x`: Soil Type designation (39 columns)\n",
    "* `Cover_Type`: 1 for cottonwood/willow, 0 for ponderosa pine"
   ]
  },
  {
   "cell_type": "markdown",
   "metadata": {},
   "source": [
    "This is also an imbalanced dataset, since cottonwood/willow trees are relatively rare in this forest:"
   ]
  },
  {
   "cell_type": "code",
   "execution_count": 2,
   "metadata": {
    "ExecuteTime": {
     "end_time": "2022-04-11T14:07:46.670671Z",
     "start_time": "2022-04-11T14:07:46.632115Z"
    }
   },
   "outputs": [
    {
     "name": "stdout",
     "output_type": "stream",
     "text": [
      "Raw Counts\n",
      "0    35754\n",
      "1     2747\n",
      "Name: Cover_Type, dtype: int64\n",
      "\n",
      "Percentages\n",
      "0    0.928651\n",
      "1    0.071349\n",
      "Name: Cover_Type, dtype: float64\n"
     ]
    }
   ],
   "source": [
    "# Run this cell without changes\n",
    "print(\"Raw Counts\")\n",
    "print(df[\"Cover_Type\"].value_counts())\n",
    "print()\n",
    "print(\"Percentages\")\n",
    "print(df[\"Cover_Type\"].value_counts(normalize=True))"
   ]
  },
  {
   "cell_type": "markdown",
   "metadata": {},
   "source": [
    "If we had a model that *always* said that the cover type was ponderosa pine (class 0), what accuracy score would we get?"
   ]
  },
  {
   "cell_type": "code",
   "execution_count": 3,
   "metadata": {
    "ExecuteTime": {
     "end_time": "2022-04-08T19:49:42.400162Z",
     "start_time": "2022-04-08T19:49:42.396048Z"
    }
   },
   "outputs": [
    {
     "data": {
      "text/plain": [
       "'\\n.928651, 92.8651% of the Cover_Type is 0 for Ponderosa Pine.\\n'"
      ]
     },
     "execution_count": 3,
     "metadata": {},
     "output_type": "execute_result"
    }
   ],
   "source": [
    "# Replace None with appropriate text\n",
    "\"\"\"\n",
    ".928651, 92.8651% of the Cover_Type is 0 for Ponderosa Pine.\n",
    "\"\"\""
   ]
  },
  {
   "cell_type": "markdown",
   "metadata": {},
   "source": [
    "You will need to take this into account when working through this problem."
   ]
  },
  {
   "cell_type": "markdown",
   "metadata": {},
   "source": [
    "### Requirements\n",
    "\n",
    "#### 1. Perform a Train-Test Split\n",
    "\n",
    "For a complete end-to-end ML process, we need to create a holdout set that we will use at the very end to evaluate our final model's performance.\n",
    "\n",
    "#### 2. Build and Evaluate a Baseline Model\n",
    "\n",
    "Without performing any preprocessing or hyperparameter tuning, build and evaluate a vanilla logistic regression model using log loss and `cross_val_score`.\n",
    "\n",
    "#### 3. Write a Custom Cross Validation Function\n",
    "\n",
    "Because we are using preprocessing techniques that differ for train and validation data, we will need a custom function rather than simply preprocessing the entire `X_train` and using `cross_val_score` from scikit-learn.\n",
    "\n",
    "#### 4. Build and Evaluate Additional Logistic Regression Models\n",
    "\n",
    "Using the function created in the previous step, build multiple logistic regression models with different hyperparameters in order to minimize log loss.\n",
    "\n",
    "#### 5. Choose and Evaluate a Final Model\n",
    "\n",
    "Preprocess the full training set and test set appropriately, then evaluate the final model with various classification metrics in addition to log loss."
   ]
  },
  {
   "cell_type": "markdown",
   "metadata": {},
   "source": [
    "## 1. Perform a Train-Test Split\n",
    "\n",
    "This process should be fairly familiar by now. In the cell below, use the variable `df` (that has already been created) in order to create `X` and `y`, then training and test sets using `train_test_split` ([documentation here](https://scikit-learn.org/stable/modules/generated/sklearn.model_selection.train_test_split.html)).\n",
    "\n",
    "We'll use a random state of 42 and `stratify=y` (to ensure an even balance of tree types) in the train-test split. Recall that the target is `Cover_Type`."
   ]
  },
  {
   "cell_type": "code",
   "execution_count": 3,
   "metadata": {
    "ExecuteTime": {
     "end_time": "2022-04-11T14:09:54.655757Z",
     "start_time": "2022-04-11T14:09:53.990009Z"
    }
   },
   "outputs": [],
   "source": [
    "# Replace None with appropriate code\n",
    "\n",
    "# Import the relevant function\n",
    "from sklearn.model_selection import train_test_split\n",
    "\n",
    "# Split df into X and y\n",
    "X = df.drop('Cover_Type', axis=1)\n",
    "y = df['Cover_Type']\n",
    "\n",
    "# Perform train-test split with random_state=42 and stratify=y\n",
    "X_train, X_test, y_train, y_test = train_test_split(X, y, random_state=42, stratify=y)"
   ]
  },
  {
   "cell_type": "markdown",
   "metadata": {},
   "source": [
    "Check that you have the correct data shape before proceeding:"
   ]
  },
  {
   "cell_type": "code",
   "execution_count": 4,
   "metadata": {
    "ExecuteTime": {
     "end_time": "2022-04-11T14:10:32.313151Z",
     "start_time": "2022-04-11T14:10:32.298243Z"
    }
   },
   "outputs": [],
   "source": [
    "# Run this cell without changes\n",
    "\n",
    "# X and y training data should have the same number of rows\n",
    "assert X_train.shape[0] == y_train.shape[0] and X_train.shape[0] == 28875\n",
    "\n",
    "# X and y testing data should have the same number of rows\n",
    "assert X_test.shape[0] == y_test.shape[0] and X_test.shape[0] == 9626\n",
    "\n",
    "# Both X should have 52 columns\n",
    "assert X_train.shape[1] == X_test.shape[1] and X_train.shape[1] == 52\n",
    "\n",
    "# Both y should have 1 column\n",
    "assert len(y_train.shape) == len(y_test.shape) and len(y_train.shape) == 1"
   ]
  },
  {
   "cell_type": "markdown",
   "metadata": {},
   "source": [
    "Also, we should have roughly equal percentages of cottonwood/willow trees for train vs. test targets:"
   ]
  },
  {
   "cell_type": "code",
   "execution_count": 5,
   "metadata": {
    "ExecuteTime": {
     "end_time": "2022-04-11T14:10:37.553140Z",
     "start_time": "2022-04-11T14:10:37.527333Z"
    }
   },
   "outputs": [
    {
     "name": "stdout",
     "output_type": "stream",
     "text": [
      "Train percent cottonwood/willow: 0.07134199134199135\n",
      "Test percent cottonwood/willow:  0.0713692083939331\n"
     ]
    }
   ],
   "source": [
    "# Run this cell without changes\n",
    "print(\"Train percent cottonwood/willow:\", y_train.value_counts(normalize=True)[1])\n",
    "print(\"Test percent cottonwood/willow: \", y_test.value_counts(normalize=True)[1])"
   ]
  },
  {
   "cell_type": "markdown",
   "metadata": {},
   "source": [
    "## 2. Build and Evaluate a Baseline Model\n",
    "\n",
    "Using scikit-learn's `LogisticRegression` model, instantiate a classifier with `random_state=42`. Then use `cross_val_score` with `scoring=\"neg_log_loss\"` to find the average cross-validated log loss for this model on `X_train` and `y_train`.\n",
    "\n",
    "* [`LogisticRegression` documentation](https://scikit-learn.org/stable/modules/generated/sklearn.linear_model.LogisticRegression.html)\n",
    "* [`cross_val_score` documentation](https://scikit-learn.org/stable/modules/generated/sklearn.model_selection.cross_val_score.html)\n",
    "\n",
    "(Similar to RMSE, the internal implementation of `cross_val_score` requires that we use \"negative log loss\" instead of just log loss. The code provided negates the result for you.)\n",
    "\n",
    "**The code below should produce a warning** but not an error. Because we have not scaled the data, we expect to get a `ConvergenceWarning` five times (once for each fold of cross validation)."
   ]
  },
  {
   "cell_type": "code",
   "execution_count": 6,
   "metadata": {
    "ExecuteTime": {
     "end_time": "2022-04-11T14:11:58.897097Z",
     "start_time": "2022-04-11T14:11:57.379570Z"
    }
   },
   "outputs": [
    {
     "name": "stderr",
     "output_type": "stream",
     "text": [
      "/Users/zachrauch/opt/anaconda3/envs/learn-env/lib/python3.8/site-packages/sklearn/linear_model/_logistic.py:814: ConvergenceWarning: lbfgs failed to converge (status=1):\n",
      "STOP: TOTAL NO. of ITERATIONS REACHED LIMIT.\n",
      "\n",
      "Increase the number of iterations (max_iter) or scale the data as shown in:\n",
      "    https://scikit-learn.org/stable/modules/preprocessing.html\n",
      "Please also refer to the documentation for alternative solver options:\n",
      "    https://scikit-learn.org/stable/modules/linear_model.html#logistic-regression\n",
      "  n_iter_i = _check_optimize_result(\n",
      "/Users/zachrauch/opt/anaconda3/envs/learn-env/lib/python3.8/site-packages/sklearn/linear_model/_logistic.py:814: ConvergenceWarning: lbfgs failed to converge (status=1):\n",
      "STOP: TOTAL NO. of ITERATIONS REACHED LIMIT.\n",
      "\n",
      "Increase the number of iterations (max_iter) or scale the data as shown in:\n",
      "    https://scikit-learn.org/stable/modules/preprocessing.html\n",
      "Please also refer to the documentation for alternative solver options:\n",
      "    https://scikit-learn.org/stable/modules/linear_model.html#logistic-regression\n",
      "  n_iter_i = _check_optimize_result(\n",
      "/Users/zachrauch/opt/anaconda3/envs/learn-env/lib/python3.8/site-packages/sklearn/linear_model/_logistic.py:814: ConvergenceWarning: lbfgs failed to converge (status=1):\n",
      "STOP: TOTAL NO. of ITERATIONS REACHED LIMIT.\n",
      "\n",
      "Increase the number of iterations (max_iter) or scale the data as shown in:\n",
      "    https://scikit-learn.org/stable/modules/preprocessing.html\n",
      "Please also refer to the documentation for alternative solver options:\n",
      "    https://scikit-learn.org/stable/modules/linear_model.html#logistic-regression\n",
      "  n_iter_i = _check_optimize_result(\n",
      "/Users/zachrauch/opt/anaconda3/envs/learn-env/lib/python3.8/site-packages/sklearn/linear_model/_logistic.py:814: ConvergenceWarning: lbfgs failed to converge (status=1):\n",
      "STOP: TOTAL NO. of ITERATIONS REACHED LIMIT.\n",
      "\n",
      "Increase the number of iterations (max_iter) or scale the data as shown in:\n",
      "    https://scikit-learn.org/stable/modules/preprocessing.html\n",
      "Please also refer to the documentation for alternative solver options:\n",
      "    https://scikit-learn.org/stable/modules/linear_model.html#logistic-regression\n",
      "  n_iter_i = _check_optimize_result(\n",
      "/Users/zachrauch/opt/anaconda3/envs/learn-env/lib/python3.8/site-packages/sklearn/linear_model/_logistic.py:814: ConvergenceWarning: lbfgs failed to converge (status=1):\n",
      "STOP: TOTAL NO. of ITERATIONS REACHED LIMIT.\n",
      "\n",
      "Increase the number of iterations (max_iter) or scale the data as shown in:\n",
      "    https://scikit-learn.org/stable/modules/preprocessing.html\n",
      "Please also refer to the documentation for alternative solver options:\n",
      "    https://scikit-learn.org/stable/modules/linear_model.html#logistic-regression\n",
      "  n_iter_i = _check_optimize_result(\n"
     ]
    },
    {
     "data": {
      "text/plain": [
       "0.1721607022528949"
      ]
     },
     "execution_count": 6,
     "metadata": {},
     "output_type": "execute_result"
    }
   ],
   "source": [
    "# Replace None with appropriate code\n",
    "\n",
    "# Import relevant class and function\n",
    "from sklearn.linear_model import LogisticRegression\n",
    "from sklearn.model_selection import cross_val_score\n",
    "\n",
    "# Instantiate a LogisticRegression with random_state=42\n",
    "baseline_model = LogisticRegression(random_state=42)\n",
    "\n",
    "# Use cross_val_score with scoring=\"neg_log_loss\" to evaluate the model\n",
    "# on X_train and y_train\n",
    "baseline_neg_log_loss_cv = cross_val_score(estimator=baseline_model, X=X_train, y=y_train, scoring=\"neg_log_loss\")\n",
    "\n",
    "baseline_log_loss = -(baseline_neg_log_loss_cv.mean())\n",
    "baseline_log_loss"
   ]
  },
  {
   "cell_type": "markdown",
   "metadata": {},
   "source": [
    "Ok, so we are getting the `ConvergenceWarning`s we expected, and log loss of around 0.172 with our baseline model.\n",
    "\n",
    "Is that a \"good\" log loss? That's hard to say — log loss is not particularly interpretable. \n",
    "\n",
    "If we had a model that just chose 0 (the majority class) every time, this is the log loss we would get:"
   ]
  },
  {
   "cell_type": "code",
   "execution_count": 7,
   "metadata": {
    "ExecuteTime": {
     "end_time": "2022-04-11T14:14:34.437483Z",
     "start_time": "2022-04-11T14:14:34.406303Z"
    }
   },
   "outputs": [
    {
     "data": {
      "text/plain": [
       "2.4640650865286937"
      ]
     },
     "execution_count": 7,
     "metadata": {},
     "output_type": "execute_result"
    }
   ],
   "source": [
    "# Run this cell without changes\n",
    "from sklearn.metrics import log_loss\n",
    "import numpy as np\n",
    "\n",
    "log_loss(y_train, np.zeros(len(y_train)))"
   ]
  },
  {
   "cell_type": "markdown",
   "metadata": {},
   "source": [
    "Loss is a metric where lower is better, so our baseline model is clearly an improvement over just guessing the majority class every time.\n",
    "\n",
    "Even though it is difficult to interpret, the 0.172 value will be a useful baseline as we continue modeling, to see if we are actually making improvements or just getting slightly better performance by chance.\n",
    "\n",
    "We will also use other metrics at the last step in order to describe the final model's performance in a more user-friendly way."
   ]
  },
  {
   "cell_type": "markdown",
   "metadata": {},
   "source": [
    "## 3. Write a Custom Cross Validation Function\n",
    "\n",
    "### Conceptual Considerations\n",
    "\n",
    "First, consider: which preprocessing steps should be taken with this dataset? Recall that our data is imbalanced, and that it caused a `ConvergenceWarning` for our baseline model."
   ]
  },
  {
   "cell_type": "code",
   "execution_count": 8,
   "metadata": {
    "ExecuteTime": {
     "end_time": "2022-04-11T14:17:21.771063Z",
     "start_time": "2022-04-11T14:17:21.757926Z"
    }
   },
   "outputs": [
    {
     "data": {
      "text/plain": [
       "'\\nSmote, and scale.\\n'"
      ]
     },
     "execution_count": 8,
     "metadata": {},
     "output_type": "execute_result"
    }
   ],
   "source": [
    "# Replace None with appropriate text\n",
    "\"\"\"\n",
    "Smote, and scale.\n",
    "\"\"\""
   ]
  },
  {
   "cell_type": "markdown",
   "metadata": {},
   "source": [
    "As you likely noted above, we should use some kind of resampling technique to address the large class imbalance. Let's use `SMOTE` (synthetic minority oversampling, [documentation here](https://imbalanced-learn.org/stable/references/generated/imblearn.over_sampling.SMOTE.html)), which creates synthetic examples of the minority class to help train the model.\n",
    "\n",
    "Does SMOTE work just like a typical scikit-learn transformer, where you fit the transformer on the training data then transform both the training and the test data?"
   ]
  },
  {
   "cell_type": "code",
   "execution_count": 9,
   "metadata": {
    "ExecuteTime": {
     "end_time": "2022-04-11T14:18:27.917452Z",
     "start_time": "2022-04-11T14:18:27.907236Z"
    }
   },
   "outputs": [
    {
     "data": {
      "text/plain": [
       "'\\nOnly on train. \\n'"
      ]
     },
     "execution_count": 9,
     "metadata": {},
     "output_type": "execute_result"
    }
   ],
   "source": [
    "# Replace None with appropriate text\n",
    "\"\"\"\n",
    "Only on train. \n",
    "\"\"\""
   ]
  },
  {
   "cell_type": "code",
   "execution_count": 11,
   "metadata": {
    "ExecuteTime": {
     "end_time": "2022-04-08T19:49:44.440366Z",
     "start_time": "2022-04-08T19:49:44.428215Z"
    }
   },
   "outputs": [
    {
     "data": {
      "text/plain": [
       "'\\nNo, SMOTE does not work like that. We never want to oversample the\\nminority class in the test data, because then we are generating\\nmetrics based on synthetic data and not actual data.\\n\\nInstead, we only want to fit and transform the training data, and\\nleave the testing data alone.\\n'"
      ]
     },
     "execution_count": 11,
     "metadata": {},
     "output_type": "execute_result"
    }
   ],
   "source": [
    "# __SOLUTION\n",
    "\"\"\"\n",
    "No, SMOTE does not work like that. We never want to oversample the\n",
    "minority class in the test data, because then we are generating\n",
    "metrics based on synthetic data and not actual data.\n",
    "\n",
    "Instead, we only want to fit and transform the training data, and\n",
    "leave the testing data alone.\n",
    "\"\"\""
   ]
  },
  {
   "cell_type": "markdown",
   "metadata": {},
   "source": [
    "As you also likely noted above, we should use some transformer to normalize the data. Let's use a `StandardScaler` ([documentation here](https://scikit-learn.org/stable/modules/generated/sklearn.preprocessing.StandardScaler.html)).\n",
    "\n",
    "Does `StandardScaler` work just like a typical scikit-learn transformer, where you fit the transformer on the training data then transform both the training and the test data?"
   ]
  },
  {
   "cell_type": "code",
   "execution_count": 10,
   "metadata": {
    "ExecuteTime": {
     "end_time": "2022-04-11T14:20:04.980847Z",
     "start_time": "2022-04-11T14:20:04.965163Z"
    }
   },
   "outputs": [
    {
     "data": {
      "text/plain": [
       "'\\nYes. Fit_transform the training, transform the test. \\n'"
      ]
     },
     "execution_count": 10,
     "metadata": {},
     "output_type": "execute_result"
    }
   ],
   "source": [
    "# Replace None with appropriate text\n",
    "\"\"\"\n",
    "Yes. Fit_transform the training, transform the test. \n",
    "\"\"\""
   ]
  },
  {
   "cell_type": "markdown",
   "metadata": {},
   "source": [
    "(At this point it's a good idea to double-check your answers against the `solution` branch to make sure you understand the setup.)"
   ]
  },
  {
   "cell_type": "markdown",
   "metadata": {},
   "source": [
    "### Using `StratifiedKFold`\n",
    "\n",
    "As you can see from the `cross_val_score` documentation linked above, \"under the hood\" it is using `StratifiedKFold` for classification tasks.\n",
    "\n",
    "Essentially `StratifiedKFold` is just providing the information you need to make 5 separate train-test splits inside of `X_train`. Then there is other logic within `cross_val_score` to fit and evaluate the provided model.\n",
    "\n",
    "So, if our original code looked like this:\n",
    "\n",
    "```python\n",
    "baseline_model = LogisticRegression(random_state=42)\n",
    "baseline_neg_log_loss_cv = cross_val_score(baseline_model, X_train, y_train, scoring=\"neg_log_loss\")\n",
    "baseline_log_loss = -(baseline_neg_log_loss_cv.mean())\n",
    "baseline_log_loss\n",
    "```\n",
    "\n",
    "The equivalent of the above code using `StratifiedKFold` would look something like this:"
   ]
  },
  {
   "cell_type": "code",
   "execution_count": 11,
   "metadata": {
    "ExecuteTime": {
     "end_time": "2022-04-11T14:21:31.766295Z",
     "start_time": "2022-04-11T14:21:30.370379Z"
    }
   },
   "outputs": [
    {
     "name": "stderr",
     "output_type": "stream",
     "text": [
      "/Users/zachrauch/opt/anaconda3/envs/learn-env/lib/python3.8/site-packages/sklearn/linear_model/_logistic.py:814: ConvergenceWarning: lbfgs failed to converge (status=1):\n",
      "STOP: TOTAL NO. of ITERATIONS REACHED LIMIT.\n",
      "\n",
      "Increase the number of iterations (max_iter) or scale the data as shown in:\n",
      "    https://scikit-learn.org/stable/modules/preprocessing.html\n",
      "Please also refer to the documentation for alternative solver options:\n",
      "    https://scikit-learn.org/stable/modules/linear_model.html#logistic-regression\n",
      "  n_iter_i = _check_optimize_result(\n",
      "/Users/zachrauch/opt/anaconda3/envs/learn-env/lib/python3.8/site-packages/sklearn/linear_model/_logistic.py:814: ConvergenceWarning: lbfgs failed to converge (status=1):\n",
      "STOP: TOTAL NO. of ITERATIONS REACHED LIMIT.\n",
      "\n",
      "Increase the number of iterations (max_iter) or scale the data as shown in:\n",
      "    https://scikit-learn.org/stable/modules/preprocessing.html\n",
      "Please also refer to the documentation for alternative solver options:\n",
      "    https://scikit-learn.org/stable/modules/linear_model.html#logistic-regression\n",
      "  n_iter_i = _check_optimize_result(\n",
      "/Users/zachrauch/opt/anaconda3/envs/learn-env/lib/python3.8/site-packages/sklearn/linear_model/_logistic.py:814: ConvergenceWarning: lbfgs failed to converge (status=1):\n",
      "STOP: TOTAL NO. of ITERATIONS REACHED LIMIT.\n",
      "\n",
      "Increase the number of iterations (max_iter) or scale the data as shown in:\n",
      "    https://scikit-learn.org/stable/modules/preprocessing.html\n",
      "Please also refer to the documentation for alternative solver options:\n",
      "    https://scikit-learn.org/stable/modules/linear_model.html#logistic-regression\n",
      "  n_iter_i = _check_optimize_result(\n",
      "/Users/zachrauch/opt/anaconda3/envs/learn-env/lib/python3.8/site-packages/sklearn/linear_model/_logistic.py:814: ConvergenceWarning: lbfgs failed to converge (status=1):\n",
      "STOP: TOTAL NO. of ITERATIONS REACHED LIMIT.\n",
      "\n",
      "Increase the number of iterations (max_iter) or scale the data as shown in:\n",
      "    https://scikit-learn.org/stable/modules/preprocessing.html\n",
      "Please also refer to the documentation for alternative solver options:\n",
      "    https://scikit-learn.org/stable/modules/linear_model.html#logistic-regression\n",
      "  n_iter_i = _check_optimize_result(\n",
      "/Users/zachrauch/opt/anaconda3/envs/learn-env/lib/python3.8/site-packages/sklearn/linear_model/_logistic.py:814: ConvergenceWarning: lbfgs failed to converge (status=1):\n",
      "STOP: TOTAL NO. of ITERATIONS REACHED LIMIT.\n",
      "\n",
      "Increase the number of iterations (max_iter) or scale the data as shown in:\n",
      "    https://scikit-learn.org/stable/modules/preprocessing.html\n",
      "Please also refer to the documentation for alternative solver options:\n",
      "    https://scikit-learn.org/stable/modules/linear_model.html#logistic-regression\n",
      "  n_iter_i = _check_optimize_result(\n"
     ]
    },
    {
     "data": {
      "text/plain": [
       "0.1721607022528949"
      ]
     },
     "execution_count": 11,
     "metadata": {},
     "output_type": "execute_result"
    }
   ],
   "source": [
    "# Run this cell without changes\n",
    "from sklearn.metrics import make_scorer\n",
    "from sklearn.model_selection import StratifiedKFold\n",
    "from sklearn.base import clone\n",
    "\n",
    "# Negative log loss doesn't exist as something we can import,\n",
    "# but we can create it\n",
    "neg_log_loss = make_scorer(log_loss, greater_is_better=False, needs_proba=True)\n",
    "\n",
    "# Instantiate the model (same as previous example)\n",
    "baseline_model = LogisticRegression(random_state=42)\n",
    "\n",
    "# Create a list to hold the score from each fold\n",
    "kfold_scores = np.ndarray(5)\n",
    "\n",
    "# Instantiate a splitter object and loop over its result\n",
    "kfold = StratifiedKFold()\n",
    "for fold, (train_index, val_index) in enumerate(kfold.split(X_train, y_train)):\n",
    "    # Extract train and validation subsets using the provided indices\n",
    "    X_t, X_val = X_train.iloc[train_index], X_train.iloc[val_index]\n",
    "    y_t, y_val = y_train.iloc[train_index], y_train.iloc[val_index]\n",
    "    \n",
    "    # Clone the provided model and fit it on the train subset\n",
    "    temp_model = clone(baseline_model)\n",
    "    temp_model.fit(X_t, y_t)\n",
    "    \n",
    "    # Evaluate the provided model on the validation subset\n",
    "    neg_log_loss_score = neg_log_loss(temp_model, X_val, y_val)\n",
    "    kfold_scores[fold] = neg_log_loss_score\n",
    "    \n",
    "-(kfold_scores.mean())"
   ]
  },
  {
   "cell_type": "markdown",
   "metadata": {},
   "source": [
    "As you can see, this produced the same result as our original cross validation (including the `ConvergenceWarning`s):"
   ]
  },
  {
   "cell_type": "code",
   "execution_count": 12,
   "metadata": {
    "ExecuteTime": {
     "end_time": "2022-04-11T14:25:00.087215Z",
     "start_time": "2022-04-11T14:25:00.068489Z"
    }
   },
   "outputs": [
    {
     "name": "stdout",
     "output_type": "stream",
     "text": [
      "[-0.17160034 -0.17457682 -0.16302881 -0.17948577 -0.17211177]\n",
      "[-0.17160034 -0.17457682 -0.16302881 -0.17948577 -0.17211177]\n"
     ]
    }
   ],
   "source": [
    "# Run this cell without changes\n",
    "print(baseline_neg_log_loss_cv)\n",
    "print(kfold_scores)"
   ]
  },
  {
   "cell_type": "markdown",
   "metadata": {},
   "source": [
    "So, what is the point of doing it this way, instead of the much-shorter `cross_val_score` approach?\n",
    "\n",
    "**Using `StratifiedKFold` \"by hand\" allows us to customize what happens inside of that loop.**\n",
    "\n",
    "Therefore we can apply these preprocessing techniques appropriately:\n",
    "\n",
    "1. Fit a `StandardScaler` object on the training subset (not the full training data) and transform both the train and test subsets\n",
    "2. Fit a `SMOTE` object and transform only the training subset"
   ]
  },
  {
   "cell_type": "markdown",
   "metadata": {},
   "source": [
    "### Writing a Custom Cross Validation Function with `StratifiedKFold`\n",
    "\n",
    "In the cell below, we have set up a function `custom_cross_val_score` that has an interface that resembles the `cross_val_score` function from scikit-learn.\n",
    "\n",
    "Most of it is set up for you already, all you need to do is add the `SMOTE` and `StandardScaler` steps described above."
   ]
  },
  {
   "cell_type": "code",
   "execution_count": 13,
   "metadata": {
    "ExecuteTime": {
     "end_time": "2022-04-11T14:36:16.393877Z",
     "start_time": "2022-04-11T14:36:14.581608Z"
    }
   },
   "outputs": [
    {
     "data": {
      "text/plain": [
       "0.1323589954919918"
      ]
     },
     "execution_count": 13,
     "metadata": {},
     "output_type": "execute_result"
    }
   ],
   "source": [
    "# Replace None with appropriate code\n",
    "\n",
    "# Import relevant sklearn and imblearn classes\n",
    "from sklearn.preprocessing import StandardScaler\n",
    "from imblearn.over_sampling import SMOTE\n",
    "\n",
    "def custom_cross_val_score(estimator, X, y):\n",
    "    # Create a list to hold the scores from each fold\n",
    "    kfold_train_scores = np.ndarray(5)\n",
    "    kfold_val_scores = np.ndarray(5)\n",
    "\n",
    "    # Instantiate a splitter object and loop over its result\n",
    "    kfold = StratifiedKFold(n_splits=5)\n",
    "    for fold, (train_index, val_index) in enumerate(kfold.split(X, y)):\n",
    "        # Extract train and validation subsets using the provided indices\n",
    "        X_t, X_val = X.iloc[train_index], X.iloc[val_index]\n",
    "        y_t, y_val = y.iloc[train_index], y.iloc[val_index]\n",
    "        \n",
    "        # Instantiate StandardScaler\n",
    "        scaler = StandardScaler()\n",
    "        # Fit and transform X_t\n",
    "        X_t_scaled = scaler.fit_transform(X=X_t)\n",
    "        # Transform X_val\n",
    "        X_val_scaled = scaler.transform(X_val)\n",
    "        \n",
    "        # Instantiate SMOTE with random_state=42 and sampling_strategy=0.28\n",
    "        sm = SMOTE(random_state=42, sampling_strategy=0.28)\n",
    "        # Fit and transform X_t_scaled and y_t using sm\n",
    "        X_t_oversampled, y_t_oversampled = sm.fit_resample(X_t_scaled, y_t)\n",
    "        \n",
    "        # Clone the provided model and fit it on the train subset\n",
    "        temp_model = clone(estimator)\n",
    "        temp_model.fit(X_t_oversampled, y_t_oversampled)\n",
    "        \n",
    "        # Evaluate the provided model on the train and validation subsets\n",
    "        neg_log_loss_score_train = neg_log_loss(temp_model, X_t_oversampled, y_t_oversampled)\n",
    "        neg_log_loss_score_val = neg_log_loss(temp_model, X_val_scaled, y_val)\n",
    "        kfold_train_scores[fold] = neg_log_loss_score_train\n",
    "        kfold_val_scores[fold] = neg_log_loss_score_val\n",
    "        \n",
    "    return kfold_train_scores, kfold_val_scores\n",
    "        \n",
    "model_with_preprocessing = LogisticRegression(random_state=42, class_weight={1: 0.28})\n",
    "preprocessed_train_scores, preprocessed_neg_log_loss_cv = custom_cross_val_score(model_with_preprocessing, X_train, y_train)\n",
    "- (preprocessed_neg_log_loss_cv.mean())"
   ]
  },
  {
   "cell_type": "markdown",
   "metadata": {},
   "source": [
    "The output you get should be about 0.132, and there should no longer be a `ConvergenceWarning`.\n",
    "\n",
    "If you're not getting the right output, double check that you are applying the correct transformations to the correct variables:\n",
    "\n",
    "1. `X_t` should be scaled to create `X_t_scaled`, then `X_t_scaled` should be resampled to create `X_t_oversampled`, then `X_t_oversampled` should be used to fit the model\n",
    "2. `X_val` should be scaled to create `X_val_scaled`, then `X_val_scaled` should be used to evaluate `neg_log_loss`\n",
    "3. `y_t` should be resampled to create `y_t_oversampled`, then `y_t_oversampled` should be used to fit the model\n",
    "4. `y_val` should not be transformed in any way. It should just be used to evaluate `neg_log_loss`\n",
    "\n",
    "Another thing to check is that you used `sampling_strategy=0.28` when you instantiated the `SMOTE` object."
   ]
  },
  {
   "cell_type": "markdown",
   "metadata": {},
   "source": [
    "If you are getting the right output, great!  Let's compare that to our baseline log loss:"
   ]
  },
  {
   "cell_type": "code",
   "execution_count": 14,
   "metadata": {
    "ExecuteTime": {
     "end_time": "2022-04-11T14:36:20.110036Z",
     "start_time": "2022-04-11T14:36:20.105045Z"
    }
   },
   "outputs": [
    {
     "name": "stdout",
     "output_type": "stream",
     "text": [
      "0.1721607022528949\n",
      "0.1323589954919918\n"
     ]
    }
   ],
   "source": [
    "# Run this cell without changes\n",
    "print(-baseline_neg_log_loss_cv.mean())\n",
    "print(-preprocessed_neg_log_loss_cv.mean())"
   ]
  },
  {
   "cell_type": "markdown",
   "metadata": {},
   "source": [
    "Looks like our preprocessing with `StandardScaler` and `SMOTE` has provided some improvement over the baseline! Let's move on to Step 4."
   ]
  },
  {
   "cell_type": "markdown",
   "metadata": {},
   "source": [
    "## 4. Build and Evaluate Additional Logistic Regression Models\n",
    "\n",
    "Now that we have applied appropriate preprocessing steps to our data in our custom cross validation function, we can reuse that function to test multiple different `LogisticRegression` models.\n",
    "\n",
    "For each model iteration, make sure you specify `class_weight={1: 0.28}`, because this aligns with the weighting created by our `SMOTE` process.\n",
    "\n",
    "### Where to Next?\n",
    "\n",
    "One of the first questions to ask when you start iterating on any model is: ***are we overfitting***? Many of the models you will learn during this course will have built-in functionality to reduce overfitting.\n",
    "\n",
    "To determine whether we are overfitting, let's examine the training scores vs. the validation scores from our existing modeling process:"
   ]
  },
  {
   "cell_type": "code",
   "execution_count": 15,
   "metadata": {
    "ExecuteTime": {
     "end_time": "2022-04-11T14:36:50.793055Z",
     "start_time": "2022-04-11T14:36:50.776343Z"
    }
   },
   "outputs": [
    {
     "name": "stdout",
     "output_type": "stream",
     "text": [
      "Train:      [0.29227141 0.28801243 0.29282026 0.28652204 0.28910185]\n",
      "Validation: [0.13067576 0.13636961 0.12628191 0.13715658 0.13131112]\n"
     ]
    }
   ],
   "source": [
    "# Run this cell without changes\n",
    "print(\"Train:     \", -preprocessed_train_scores)\n",
    "print(\"Validation:\", -preprocessed_neg_log_loss_cv)"
   ]
  },
  {
   "cell_type": "markdown",
   "metadata": {},
   "source": [
    "Remember that these are loss metrics, meaning lower is better. Are we overfitting?"
   ]
  },
  {
   "cell_type": "code",
   "execution_count": 16,
   "metadata": {
    "ExecuteTime": {
     "end_time": "2022-04-11T14:37:37.261727Z",
     "start_time": "2022-04-11T14:37:37.249725Z"
    }
   },
   "outputs": [
    {
     "data": {
      "text/plain": [
       "'\\nWe are not overfitting. Potentially underfitting.\\n'"
      ]
     },
     "execution_count": 16,
     "metadata": {},
     "output_type": "execute_result"
    }
   ],
   "source": [
    "# Replace None with appropriate text\n",
    "\"\"\"\n",
    "We are not overfitting. Potentially underfitting.\n",
    "\"\"\""
   ]
  },
  {
   "cell_type": "markdown",
   "metadata": {},
   "source": [
    "It's actually possible that we are underfitting due to too high of regularization. Remember that `LogisticRegression` from scikit-learn has regularization by default"
   ]
  },
  {
   "cell_type": "code",
   "execution_count": 17,
   "metadata": {
    "ExecuteTime": {
     "end_time": "2022-04-11T14:38:08.809007Z",
     "start_time": "2022-04-11T14:38:08.800550Z"
    }
   },
   "outputs": [
    {
     "data": {
      "text/plain": [
       "{'C': 1.0,\n",
       " 'class_weight': {1: 0.28},\n",
       " 'dual': False,\n",
       " 'fit_intercept': True,\n",
       " 'intercept_scaling': 1,\n",
       " 'l1_ratio': None,\n",
       " 'max_iter': 100,\n",
       " 'multi_class': 'auto',\n",
       " 'n_jobs': None,\n",
       " 'penalty': 'l2',\n",
       " 'random_state': 42,\n",
       " 'solver': 'lbfgs',\n",
       " 'tol': 0.0001,\n",
       " 'verbose': 0,\n",
       " 'warm_start': False}"
      ]
     },
     "execution_count": 17,
     "metadata": {},
     "output_type": "execute_result"
    }
   ],
   "source": [
    "# Run this cell without changes\n",
    "model_with_preprocessing.get_params()"
   ]
  },
  {
   "cell_type": "markdown",
   "metadata": {},
   "source": [
    "That first key-value pair, `'C': 1.0`, specifies the regularization strength. As is noted in the [scikit-learn `LogisticRegression` docs](https://scikit-learn.org/stable/modules/generated/sklearn.linear_model.LogisticRegression.html), `C` is:\n",
    "\n",
    "> Inverse of regularization strength; must be a positive float. Like in support vector machines, smaller values specify stronger regularization.\n",
    "\n",
    "In general if you are increasing `C` you want to increase it by orders of magnitude. I.e. not increasing it to 1.1, but rather increasing it to 1e3, 1e5, etc."
   ]
  },
  {
   "cell_type": "markdown",
   "metadata": {},
   "source": [
    "### Reducing Regularization\n",
    "\n",
    "In the cell below, instantiate a `LogisticRegression` model with lower regularization (i.e. higher `C`), along with `random_state=42` and `class_weight={1: 0.28}`. Call this model `model_less_regularization`."
   ]
  },
  {
   "cell_type": "code",
   "execution_count": 18,
   "metadata": {
    "ExecuteTime": {
     "end_time": "2022-04-11T14:40:00.892285Z",
     "start_time": "2022-04-11T14:40:00.883724Z"
    }
   },
   "outputs": [],
   "source": [
    "# Replace None with appropriate code\n",
    "\n",
    "model_less_regularization = LogisticRegression(random_state=42, class_weight={1: 0.28}, C=1e5)"
   ]
  },
  {
   "cell_type": "markdown",
   "metadata": {},
   "source": [
    "This code cell double-checks that the model was created correctly:"
   ]
  },
  {
   "cell_type": "code",
   "execution_count": 19,
   "metadata": {
    "ExecuteTime": {
     "end_time": "2022-04-11T14:40:03.485997Z",
     "start_time": "2022-04-11T14:40:03.478833Z"
    }
   },
   "outputs": [],
   "source": [
    "# Run this cell without changes\n",
    "\n",
    "# Check variable type\n",
    "assert type(model_less_regularization) == LogisticRegression\n",
    "\n",
    "# Check params\n",
    "assert model_less_regularization.get_params()[\"random_state\"] == 42\n",
    "assert model_less_regularization.get_params()[\"class_weight\"] == {1: 0.28}\n",
    "assert model_less_regularization.get_params()[\"C\"] != 1.0"
   ]
  },
  {
   "cell_type": "markdown",
   "metadata": {},
   "source": [
    "Now, evaluate that model using `custom_cross_val_score`. Recall that `custom_cross_val_score` takes 3 arguments: `estimator`, `X`, and `y`. In this case, `estimator` should be `model_less_regularization`, `X` should be `X_train`, and `y` should be `y_train`."
   ]
  },
  {
   "cell_type": "code",
   "execution_count": 20,
   "metadata": {
    "ExecuteTime": {
     "end_time": "2022-04-11T14:41:36.659276Z",
     "start_time": "2022-04-11T14:41:35.365721Z"
    }
   },
   "outputs": [
    {
     "name": "stdout",
     "output_type": "stream",
     "text": [
      "Previous Model\n",
      "Train average:      0.2897456010277518\n",
      "Validation average: 0.1323589954919918\n",
      "Current Model\n",
      "Train average:      0.28957525587280275\n",
      "Validation average: 0.132344356920517\n"
     ]
    }
   ],
   "source": [
    "# Replace None with appropriate code\n",
    "less_regularization_train_scores, less_regularization_val_scores = custom_cross_val_score(estimator=model_less_regularization, X=X_train, y=y_train)\n",
    "\n",
    "print(\"Previous Model\")\n",
    "print(\"Train average:     \", -preprocessed_train_scores.mean())\n",
    "print(\"Validation average:\", -preprocessed_neg_log_loss_cv.mean())\n",
    "print(\"Current Model\")\n",
    "print(\"Train average:     \", -less_regularization_train_scores.mean())\n",
    "print(\"Validation average:\", -less_regularization_val_scores.mean())"
   ]
  },
  {
   "cell_type": "markdown",
   "metadata": {},
   "source": [
    "Your answers will vary somewhat depending on the value of `C` that you chose, but in general you should see a slight improvement, from something like 0.132358 validation average to 0.132344 (improvement of .000014). Not a massive difference but it is an improvement!"
   ]
  },
  {
   "cell_type": "markdown",
   "metadata": {},
   "source": [
    "### Alternative Solver\n",
    "\n",
    "Right now we are using the default solver and type of regularization penalty:"
   ]
  },
  {
   "cell_type": "code",
   "execution_count": 21,
   "metadata": {
    "ExecuteTime": {
     "end_time": "2022-04-11T14:42:09.770818Z",
     "start_time": "2022-04-11T14:42:09.755963Z"
    }
   },
   "outputs": [
    {
     "name": "stdout",
     "output_type": "stream",
     "text": [
      "solver: lbfgs\n",
      "penalty: l2\n"
     ]
    }
   ],
   "source": [
    "# Run this cell without changes\n",
    "print(\"solver:\", model_less_regularization.get_params()[\"solver\"])\n",
    "print(\"penalty:\", model_less_regularization.get_params()[\"penalty\"])"
   ]
  },
  {
   "cell_type": "markdown",
   "metadata": {},
   "source": [
    "What if we want to try a different kind of regularization penalty?\n",
    "\n",
    "From the docs:\n",
    "\n",
    "> * ‘newton-cg’, ‘lbfgs’, ‘sag’ and ‘saga’ handle L2 or no penalty\n",
    "> * ‘liblinear’ and ‘saga’ also handle L1 penalty\n",
    "> * ‘saga’ also supports ‘elasticnet’ penalty\n",
    "\n",
    "In other words, the only models that support L1 or elastic net penalties are `liblinear` and `saga`. `liblinear` is going to be quite slow with the size of our dataset, so let's use `saga`.\n",
    "\n",
    "In the cell below, create a model that uses `solver=\"saga\"` and `penalty=\"elasticnet\"`. Then use the `l1_ratio` argument to specify the mixing of L1 and L2 regularization. You want a value greater than zero (zero would just mean using L2 regularization) and less than one (one would mean using just L1 regularization).\n",
    "\n",
    "Remember to also specify `random_state=42`, `class_weight={1: 0.28}`, and `C` equals the value you previously used."
   ]
  },
  {
   "cell_type": "code",
   "execution_count": 22,
   "metadata": {
    "ExecuteTime": {
     "end_time": "2022-04-11T14:43:58.791811Z",
     "start_time": "2022-04-11T14:43:52.611468Z"
    }
   },
   "outputs": [
    {
     "name": "stderr",
     "output_type": "stream",
     "text": [
      "/Users/zachrauch/opt/anaconda3/envs/learn-env/lib/python3.8/site-packages/sklearn/linear_model/_sag.py:352: ConvergenceWarning: The max_iter was reached which means the coef_ did not converge\n",
      "  warnings.warn(\n",
      "/Users/zachrauch/opt/anaconda3/envs/learn-env/lib/python3.8/site-packages/sklearn/linear_model/_sag.py:352: ConvergenceWarning: The max_iter was reached which means the coef_ did not converge\n",
      "  warnings.warn(\n",
      "/Users/zachrauch/opt/anaconda3/envs/learn-env/lib/python3.8/site-packages/sklearn/linear_model/_sag.py:352: ConvergenceWarning: The max_iter was reached which means the coef_ did not converge\n",
      "  warnings.warn(\n",
      "/Users/zachrauch/opt/anaconda3/envs/learn-env/lib/python3.8/site-packages/sklearn/linear_model/_sag.py:352: ConvergenceWarning: The max_iter was reached which means the coef_ did not converge\n",
      "  warnings.warn(\n"
     ]
    },
    {
     "name": "stdout",
     "output_type": "stream",
     "text": [
      "Previous Model (Less Regularization)\n",
      "Train average:      0.28957525587280275\n",
      "Validation average: 0.132344356920517\n",
      "Current Model\n",
      "Train average:      0.292976840998605\n",
      "Validation average: 0.13604493761082842\n"
     ]
    },
    {
     "name": "stderr",
     "output_type": "stream",
     "text": [
      "/Users/zachrauch/opt/anaconda3/envs/learn-env/lib/python3.8/site-packages/sklearn/linear_model/_sag.py:352: ConvergenceWarning: The max_iter was reached which means the coef_ did not converge\n",
      "  warnings.warn(\n"
     ]
    }
   ],
   "source": [
    "# Replace None with appropriate code\n",
    "model_alternative_solver = LogisticRegression(solver=\"saga\", \n",
    "                                             penalty=\"elasticnet\",\n",
    "                                             random_state=42,\n",
    "                                             class_weight={1: 0.28},\n",
    "                                             C = 1e5,\n",
    "                                             l1_ratio=.5)\n",
    "\n",
    "alternative_solver_train_scores, alternative_solver_val_scores = custom_cross_val_score(\n",
    "    model_alternative_solver,\n",
    "    X_train,\n",
    "    y_train\n",
    ")\n",
    "\n",
    "print(\"Previous Model (Less Regularization)\")\n",
    "print(\"Train average:     \", -less_regularization_train_scores.mean())\n",
    "print(\"Validation average:\", -less_regularization_val_scores.mean())\n",
    "print(\"Current Model\")\n",
    "print(\"Train average:     \", -alternative_solver_train_scores.mean())\n",
    "print(\"Validation average:\", -alternative_solver_val_scores.mean())"
   ]
  },
  {
   "cell_type": "markdown",
   "metadata": {},
   "source": [
    "Most likely you started getting `ConvergenceWarning`s again, even though we are scaling the data inside of `custom_cross_val_score`. When you get a convergence warning in a case like this, you want to modify the `tol` and/or `max_iter` parameters."
   ]
  },
  {
   "cell_type": "markdown",
   "metadata": {},
   "source": [
    "### Adjusting Gradient Descent Parameters\n",
    "\n",
    "If you are getting good results (good metrics) but are still getting a `ConvergenceWarning`, consider increasing the tolerance (`tol` argument). The tolerance specifies how close to zero the gradient must be in order to stop taking additional steps. It's possible that your model is finding a gradient that is close enough to zero, but slightly above the default tolerance, if everything otherwise looks good.\n",
    "\n",
    "In this case, we are getting slightly worse metrics on both the train and the validation data (compared to a different solver strategy), so increasing the number of iterations (`max_iter`) seems like a better strategy. Essentially this is allowing the gradient descent algorithm to take more steps as it tries to find an optimal solution.\n",
    "\n",
    "In the cell below, create a model called `model_more_iterations` that has the same hyperparameters as `model_alternative_solver`, with the addition of an increased `max_iter`. You'll need to increase `max_iter` significantly to a number in the thousands.\n",
    "\n",
    "**Note:** As you increase `max_iter`, it is normal for the execution time of fitting the model to increase. The following cell may take up to several minutes to execute. Try to be patient with this exercise! If this step times out, you can just read on ahead."
   ]
  },
  {
   "cell_type": "code",
   "execution_count": 23,
   "metadata": {
    "ExecuteTime": {
     "end_time": "2022-04-11T14:46:27.046071Z",
     "start_time": "2022-04-11T14:45:01.285591Z"
    }
   },
   "outputs": [
    {
     "name": "stdout",
     "output_type": "stream",
     "text": [
      "Previous Best Model (Less Regularization)\n",
      "Train average:      0.28957525587280275\n",
      "Validation average: 0.132344356920517\n",
      "Previous Model with This Solver\n",
      "Train average:      0.292976840998605\n",
      "Validation average: 0.13604493761082842\n",
      "Current Model\n",
      "Train average:      0.28973220231874436\n",
      "Validation average: 0.13241907028228445\n"
     ]
    }
   ],
   "source": [
    "# Replace None with appropriate code\n",
    "model_more_iterations = LogisticRegression(solver=\"saga\", \n",
    "                                             penalty=\"elasticnet\",\n",
    "                                             random_state=42,\n",
    "                                             class_weight={1: 0.28},\n",
    "                                             C = 1e5,\n",
    "                                             l1_ratio=.5,\n",
    "                                             max_iter=2000)\n",
    "\n",
    "more_iterations_train_scores, more_iterations_val_scores = custom_cross_val_score(\n",
    "    model_more_iterations,\n",
    "    X_train,\n",
    "    y_train\n",
    ")\n",
    "\n",
    "print(\"Previous Best Model (Less Regularization)\")\n",
    "print(\"Train average:     \", -less_regularization_train_scores.mean())\n",
    "print(\"Validation average:\", -less_regularization_val_scores.mean())\n",
    "print(\"Previous Model with This Solver\")\n",
    "print(\"Train average:     \", -alternative_solver_train_scores.mean())\n",
    "print(\"Validation average:\", -alternative_solver_val_scores.mean())\n",
    "print(\"Current Model\")\n",
    "print(\"Train average:     \", -more_iterations_train_scores.mean())\n",
    "print(\"Validation average:\", -more_iterations_val_scores.mean())"
   ]
  },
  {
   "cell_type": "markdown",
   "metadata": {},
   "source": [
    "The results you got are most likely around 0.13241, whereas the previous model was around 0.13234. In other words, even after waiting all that time, we are getting 0.00007 worse log loss with this solver.\n",
    "\n",
    "This is a fairly typical experience when hyperparameter tuning! Often the default hyperparameters are the default because they work best in the most situations. This is especially true of logistic regression, which has relatively few hyperparameters. Once we get to more complex models, there are more \"levers to pull\" (hyperparameters to adjust) so it is more likely that we'll improve performance by deviating from the default.\n",
    "\n",
    "Let's declare the `model_less_regularization` to be our best model, and move on to the final evaluation phase."
   ]
  },
  {
   "cell_type": "markdown",
   "metadata": {},
   "source": [
    "## 5. Choose and Evaluate a Final Model"
   ]
  },
  {
   "cell_type": "code",
   "execution_count": 24,
   "metadata": {
    "ExecuteTime": {
     "end_time": "2022-04-11T14:49:35.973491Z",
     "start_time": "2022-04-11T14:49:35.954732Z"
    }
   },
   "outputs": [],
   "source": [
    "# Run this cell without changes\n",
    "final_model = model_less_regularization"
   ]
  },
  {
   "cell_type": "markdown",
   "metadata": {},
   "source": [
    "In order to evaluate our final model, we need to preprocess the full training and test data, fit the model on the full training data, and evaluate it on the full test data. Initially we'll continue to use log loss for the evaluation step.\n",
    "\n",
    "### Preprocessing the Full Dataset"
   ]
  },
  {
   "cell_type": "code",
   "execution_count": 25,
   "metadata": {
    "ExecuteTime": {
     "end_time": "2022-04-11T14:50:50.004004Z",
     "start_time": "2022-04-11T14:50:49.823367Z"
    }
   },
   "outputs": [],
   "source": [
    "# Replace None with appropriate code\n",
    "\n",
    "# Instantiate StandardScaler\n",
    "scaler = StandardScaler()\n",
    "# Fit and transform X_train\n",
    "X_train_scaled = scaler.fit_transform(X_train)\n",
    "# Transform X_test\n",
    "X_test_scaled = scaler.transform(X_test)\n",
    "\n",
    "# Instantiate SMOTE with random_state=42 and sampling_strategy=0.28\n",
    "sm = SMOTE(random_state=42, sampling_strategy=0.28)\n",
    "# Fit and transform X_train_scaled and y_train using sm\n",
    "X_train_oversampled, y_train_oversampled = sm.fit_resample(X_train_scaled, y_train)"
   ]
  },
  {
   "cell_type": "markdown",
   "metadata": {},
   "source": [
    "### Fitting the Model on the Full Training Data"
   ]
  },
  {
   "cell_type": "code",
   "execution_count": 26,
   "metadata": {
    "ExecuteTime": {
     "end_time": "2022-04-11T14:51:20.158788Z",
     "start_time": "2022-04-11T14:51:19.881946Z"
    }
   },
   "outputs": [
    {
     "data": {
      "text/plain": [
       "LogisticRegression(C=100000.0, class_weight={1: 0.28}, random_state=42)"
      ]
     },
     "execution_count": 26,
     "metadata": {},
     "output_type": "execute_result"
    }
   ],
   "source": [
    "# Run this cell without changes\n",
    "final_model.fit(X_train_oversampled, y_train_oversampled)"
   ]
  },
  {
   "cell_type": "markdown",
   "metadata": {},
   "source": [
    "### Evaluating the Model on the Test Data\n",
    "\n",
    "#### Log Loss"
   ]
  },
  {
   "cell_type": "code",
   "execution_count": 27,
   "metadata": {
    "ExecuteTime": {
     "end_time": "2022-04-11T14:51:22.821029Z",
     "start_time": "2022-04-11T14:51:22.799695Z"
    }
   },
   "outputs": [
    {
     "data": {
      "text/plain": [
       "0.1303129439391314"
      ]
     },
     "execution_count": 27,
     "metadata": {},
     "output_type": "execute_result"
    }
   ],
   "source": [
    "# Run this cell without changes\n",
    "log_loss(y_test, final_model.predict_proba(X_test_scaled))"
   ]
  },
  {
   "cell_type": "markdown",
   "metadata": {},
   "source": [
    "Great! We are getting slightly better performance when we train the model with the full training set, compared to the average cross-validated performance. This is typical since models tend to perform better with more training data.\n",
    "\n",
    "This model has improved log loss compared to our initial baseline model, which had about 0.172.\n",
    "\n",
    "But we're not quite done here!\n",
    "\n",
    "If we wanted to present this forest cover classification model to non-technical stakeholders, log loss would be a confusing choice. Let's compute some other metrics that tell the story of our model's performance in a more interpretable way."
   ]
  },
  {
   "cell_type": "markdown",
   "metadata": {},
   "source": [
    "#### Accuracy\n",
    "\n",
    "Although we noted the issues with accuracy as a metric on unbalanced datasets, accuracy is a very intuitive metric. Recall that we would expect an accuracy of about 0.928651 if we identified every cell as class 0. What accuracy do we get with our new model?\n",
    "\n",
    "(Note that we used `.predict_proba` above, but accuracy uses `.predict`)"
   ]
  },
  {
   "cell_type": "code",
   "execution_count": 28,
   "metadata": {
    "ExecuteTime": {
     "end_time": "2022-04-11T14:52:28.161678Z",
     "start_time": "2022-04-11T14:52:28.126396Z"
    }
   },
   "outputs": [
    {
     "data": {
      "text/plain": [
       "0.9456679825472678"
      ]
     },
     "execution_count": 28,
     "metadata": {},
     "output_type": "execute_result"
    }
   ],
   "source": [
    "# Replace None with appropriate code\n",
    "\n",
    "from sklearn.metrics import accuracy_score\n",
    "\n",
    "accuracy_score(y_test, final_model.predict(X_test_scaled))"
   ]
  },
  {
   "cell_type": "markdown",
   "metadata": {},
   "source": [
    "In other words, our model correctly identifies the type of forest cover about 94.6% of the time, whereas always guessing the majority class (ponderosa pine) would only be accurate about 92.9% of the time."
   ]
  },
  {
   "cell_type": "markdown",
   "metadata": {},
   "source": [
    "#### Precision\n",
    "\n",
    "If we always chose the majority class, we would expect a precision of 0, since we would never identify any \"true positives\". What is the precision of our final model? Use `precision_score` from scikit-learn ([documentation here](https://scikit-learn.org/stable/modules/generated/sklearn.metrics.precision_score.html))."
   ]
  },
  {
   "cell_type": "code",
   "execution_count": 29,
   "metadata": {
    "ExecuteTime": {
     "end_time": "2022-04-11T14:52:43.348724Z",
     "start_time": "2022-04-11T14:52:43.324036Z"
    }
   },
   "outputs": [
    {
     "data": {
      "text/plain": [
       "0.6659919028340081"
      ]
     },
     "execution_count": 29,
     "metadata": {},
     "output_type": "execute_result"
    }
   ],
   "source": [
    "# Replace None with appropriate code\n",
    "\n",
    "# Import the relevant function\n",
    "from sklearn.metrics import precision_score\n",
    "\n",
    "# Display the precision score\n",
    "precision_score(y_test, final_model.predict(X_test_scaled))"
   ]
  },
  {
   "cell_type": "markdown",
   "metadata": {},
   "source": [
    "In other words, if our model labels a given cell of forest as class 1, there is about a 66.6% chance that it is actually class 1 (cottonwood/willow) and about a 33.4% chance that it is actually class 0 (ponderosa pine)."
   ]
  },
  {
   "cell_type": "markdown",
   "metadata": {},
   "source": [
    "#### Recall\n",
    "\n",
    "Again, if we always chose the majority class, we would expect a recall of 0. What is the recall of our final model? Use `recall_score` from scikit-learn ([documentation here](https://scikit-learn.org/stable/modules/generated/sklearn.metrics.recall_score.html))."
   ]
  },
  {
   "cell_type": "code",
   "execution_count": 30,
   "metadata": {
    "ExecuteTime": {
     "end_time": "2022-04-11T14:53:05.535445Z",
     "start_time": "2022-04-11T14:53:05.510874Z"
    }
   },
   "outputs": [
    {
     "data": {
      "text/plain": [
       "0.47889374090247455"
      ]
     },
     "execution_count": 30,
     "metadata": {},
     "output_type": "execute_result"
    }
   ],
   "source": [
    "# Replace None with appropriate code\n",
    "\n",
    "# Import the relevant function\n",
    "from sklearn.metrics import recall_score\n",
    "\n",
    "# Display the recall score\n",
    "recall_score(y_test, final_model.predict(X_test_scaled))"
   ]
  },
  {
   "cell_type": "markdown",
   "metadata": {},
   "source": [
    "In other words, if a given cell of forest is actually class 1, there is about a 47.9% chance that our model will correctly label it as class 1 (cottonwood/willow) and about a 52.1% chance that our model will incorrectly label it as class 0 (ponderosa pine)."
   ]
  },
  {
   "cell_type": "markdown",
   "metadata": {},
   "source": [
    "#### Interpretation\n",
    "\n",
    "Depending on the stakeholder, you most likely want to report just precision or just recall. Try to understand their business case:\n",
    "\n",
    "* If false positives are a bigger problem (labeled cottonwood/willow when it's really ponderosa pine), precision is the important metric to report\n",
    "* If false negatives are a bigger problem (labeled ponderosa pine when it's really cottonwood/willow), recall is the important metric to report\n",
    "\n",
    "If those problems have truly equal importance, you could report an f1-score instead, although this is somewhat more difficult for the average person to interpret.\n",
    "\n",
    "#### BONUS: Adjusting the Decision Threshold\n",
    "\n",
    "If either of those problems is important enough that it outweighs overall accuracy, you could also adjust the decision threshold of your final model to improve the metric that matters most. Let's say that it's important to improve the recall score — that we want to be able to correctly label more of the cottonwood/willow trees as cottonwood/willow trees, even if that means accidentally labeling more ponderosa pine as cottonwood/willow incorrectly.\n",
    "\n",
    "Then we can use `.predict_proba` to err on the side of the positive class. Let's use an exaggerated example, which assumes that false negatives are a very significant problem. Instead of using the default 50% threshold (where a probability over 0.5 is classified as positive) let's say that if there is greater than a 1% chance it's positive, we classify it as positive:\n",
    "\n",
    "(If the opposite issue were the case — it's very important that every area classified as 1 is actually cottonwood/willow — you would want the threshold to be higher than 50% rather than lower than 50%.)"
   ]
  },
  {
   "cell_type": "code",
   "execution_count": 31,
   "metadata": {
    "ExecuteTime": {
     "end_time": "2022-04-11T14:58:13.921877Z",
     "start_time": "2022-04-11T14:58:13.859473Z"
    }
   },
   "outputs": [
    {
     "data": {
      "text/plain": [
       "0    0.586433\n",
       "1    0.413567\n",
       "dtype: float64"
      ]
     },
     "execution_count": 31,
     "metadata": {},
     "output_type": "execute_result"
    }
   ],
   "source": [
    "# Run this cell without changes\n",
    "\n",
    "def final_model_func(model, X):\n",
    "    \"\"\"\n",
    "    Custom function to predict probability of\n",
    "    cottonwood/willow. If the model says there\n",
    "    is >1% chance, we label it as class 1\n",
    "    \"\"\"\n",
    "    probs = model.predict_proba(X)[:,1]\n",
    "    return [int(prob > 0.01) for prob in probs]\n",
    "\n",
    "# Calculate predictions with adjusted threshold and\n",
    "# display proportions of predictions\n",
    "threshold_adjusted_probs = pd.Series(final_model_func(final_model, X_test_scaled))\n",
    "threshold_adjusted_probs.value_counts(normalize=True)"
   ]
  },
  {
   "cell_type": "markdown",
   "metadata": {},
   "source": [
    "So, now we are predicting that everything over a 1% chance of being class 1 as class 1, which means that we're classifying about 58.6% of the records as class 0 and 41.4% of the records as class 1."
   ]
  },
  {
   "cell_type": "code",
   "execution_count": 32,
   "metadata": {
    "ExecuteTime": {
     "end_time": "2022-04-11T14:58:28.477120Z",
     "start_time": "2022-04-11T14:58:28.455850Z"
    },
    "scrolled": true
   },
   "outputs": [
    {
     "name": "stdout",
     "output_type": "stream",
     "text": [
      "Accuracy: 0.6565551630999377\n",
      "Recall:   0.9912663755458515\n"
     ]
    }
   ],
   "source": [
    "# Run this cell without changes\n",
    "print(\"Accuracy:\", accuracy_score(y_test, threshold_adjusted_probs))\n",
    "print(\"Recall:  \", recall_score(y_test, threshold_adjusted_probs))"
   ]
  },
  {
   "cell_type": "code",
   "execution_count": 33,
   "metadata": {
    "ExecuteTime": {
     "end_time": "2022-04-11T14:58:31.392659Z",
     "start_time": "2022-04-11T14:58:31.384463Z"
    }
   },
   "outputs": [],
   "source": [
    "from sklearn.metrics import plot_precision_recall_curve"
   ]
  },
  {
   "cell_type": "code",
   "execution_count": 46,
   "metadata": {
    "ExecuteTime": {
     "end_time": "2022-04-08T20:25:31.719365Z",
     "start_time": "2022-04-08T20:25:31.590685Z"
    }
   },
   "outputs": [
    {
     "name": "stderr",
     "output_type": "stream",
     "text": [
      "/Users/zachrauch/opt/anaconda3/envs/learn-env/lib/python3.8/site-packages/sklearn/utils/deprecation.py:87: FutureWarning: Function plot_precision_recall_curve is deprecated; Function `plot_precision_recall_curve` is deprecated in 1.0 and will be removed in 1.2. Use one of the class methods: PrecisionRecallDisplay.from_predictions or PrecisionRecallDisplay.from_estimator.\n",
      "  warnings.warn(msg, category=FutureWarning)\n"
     ]
    },
    {
     "data": {
      "image/png": "[encoded data removed]",
      "text/plain": [
       "<Figure size 432x288 with 1 Axes>"
      ]
     },
     "metadata": {
      "needs_background": "light"
     },
     "output_type": "display_data"
    }
   ],
   "source": [
    "plot_precision_recall_curve(estimator=final_model, X=X_test_scaled, y=y_test);"
   ]
  },
  {
   "cell_type": "markdown",
   "metadata": {},
   "source": [
    "This means that we are able to identify 99.1% of the true positives (i.e. 99.1% of the cottonwood/willow cells are identified). However this comes at a cost; our overall accuracy is now 65.7% instead of over 90%.\n",
    "\n",
    "So we are classifying over 40% of the cells as cottonwood/willow, even though fewer than 10% of the cells are actually that category, in order to miss as few true positives as possible. Even though this seems fairly extreme, our model is still better than just choosing class 1 every time (that model would have about 7% accuracy).\n",
    "\n",
    "This kind of model might be useful if there is some kind of treatment needed for cottonwood/willow trees, but your organization only has the resources to visit fewer than half of the study areas. This model would allow them to visit 41% of the areas and successfully treat over 99% of the cottonwood/willow trees.\n",
    "\n",
    "You can also imagine a less-drastic version of this threshold adjusting, where you trade off a marginal improvement in precision or recall for a marginal reduction in accuracy. Visually inspecting the precision-recall curve ([documentation here](https://scikit-learn.org/stable/modules/generated/sklearn.metrics.plot_precision_recall_curve.html)) can help you choose the threshold based on what you want to optimize."
   ]
  },
  {
   "cell_type": "markdown",
   "metadata": {},
   "source": [
    "## Summary\n",
    "\n",
    "In this lab, you completed an end-to-end machine learning modeling process with logistic regression on an imbalanced dataset. First you built and evaluated a baseline model. Next you wrote a custom cross validation function in order to use SMOTE resampling appropriately (without needing an `imblearn` pipeline). After that, you tuned the model through adjusting the regularization strength and the gradient descent hyperparameters. Finally, you evaluated your final model on log loss as well as more user-friendly metrics."
   ]
  }
 ],
 "metadata": {
  "kernelspec": {
   "display_name": "Python (learn-env)",
   "language": "python",
   "name": "learn-env"
  },
  "language_info": {
   "codemirror_mode": {
    "name": "ipython",
    "version": 3
   },
   "file_extension": ".py",
   "mimetype": "text/x-python",
   "name": "python",
   "nbconvert_exporter": "python",
   "pygments_lexer": "ipython3",
   "version": "3.8.5"
  },
  "toc": {
   "base_numbering": 1,
   "nav_menu": {},
   "number_sections": true,
   "sideBar": true,
   "skip_h1_title": false,
   "title_cell": "Table of Contents",
   "title_sidebar": "Contents",
   "toc_cell": false,
   "toc_position": {},
   "toc_section_display": true,
   "toc_window_display": false
  }
 },
 "nbformat": 4,
 "nbformat_minor": 4
}
